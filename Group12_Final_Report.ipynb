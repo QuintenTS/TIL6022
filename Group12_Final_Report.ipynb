{
 "cells": [
  {
   "cell_type": "markdown",
   "metadata": {},
   "source": [
    "# The effect of the increasing e-bikes on the roads on fatal accidents\n",
    "\n",
    "## Final Report\n",
    "**TIL6022**\n",
    "\n",
    "---\n",
    "\n",
    "### Authors:  \n",
    "- Bram Albertus: 5410681  \n",
    "- Jitse Trip: 4685717  \n",
    "- Thijs Kuiper: 5221145  \n",
    "- Luuk van der Horn: 5344921  \n",
    "- Quinten Schimmel: 5266408\n",
    "\n",
    "\n",
    "\n",
    "---\n",
    "\n",
    "## Introduction  \n",
    "\"The highest rate of deadly accidents among bike riders in 27 years,\" according to the *Centraal Bureau voor de Statistiek* (CBS). In 2022, 291 cyclists were involved in fatal accidents, which is 84 more than in previous years. The age category that has seen the most significant change is the 75 and older group (CBS, 2023). Parallel to this, the number of bike kilometers has also been increasing since 2022. According to the *Kennisinstituut voor Mobiliteitsbeleid* (KiM), the number of bike kilometers is now at the same level as in 2019 (the year before the COVID-19 pandemic). \n",
    "\n",
    "The increase in bike kilometers can be explained by a 4% rise in regular bike kilometers and a 29% increase in e-bike kilometers from 2019 to 2022. KiM's research indicates that e-bike usage in the 12-24 age group has tripled since 2019, while usage among people over 70 has increased by 18%. The growth in bike kilometers is primarily attributed to the rise in e-bike usage, according to the KiM (Kim; nieuws fietsberaad, 2023). Another research indicates that the rise of e-bike usage and sales could contribute to more fatalities, but that underlying usage patterns and demographics should be researched to give a complete answer.  (Westerhuis et al., 2024)\n",
    "\n",
    "Nowadays, the fatbike and other e-bikes are very popular and have faced heavy criticism from the government, due to the unsafeness of e-bikes and their speed. Policy measures are being developed and are expected soon. Also, the mandatory helmet requirement for scooters could be a reason for the increase in e-bike usage.\n",
    "\n",
    "Given the increase in fatal bike accidents and the rise in e-bike usage, we aim to research whether this increase has impacted the number of fatal accidents, especially across different age groups, because prior research does not focus on this. By processing the data from CBS, KiM and Westerhuis et al. (2024) we aim to give a quantitative analysis to be able to answer the research question.\n",
    "\n",
    "---\n",
    "\n",
    "## Research Question  \n",
    "**What is the trend in fatal bike accidents by age group, and does the use of e-bikes effect this trend?**\n",
    "\n",
    "\n",
    "---\n",
    "\n",
    "## Sub Questions  \n",
    "1. What does the trend of fatal bike accidents for different age groups look like?\n",
    "2. How has the usage of e-bikes evolved over the years compared to regular bikes, by age group?\n",
    "3. How have e-bike sales changed over the years compared to regular bike sales?\n",
    "4. How do fatal traffic accidents involving e-bikes compare to those involving regular bikes and cars over the years?\n",
    " \n",
    "\n",
    "---\n",
    "\n",
    "\n",
    "\n",
    "---\n",
    "\n",
    "## Subquestions ## \n",
    "\n",
    "\n",
    "\n",
    "\n",
    "\n"
   ]
  },
  {
   "cell_type": "markdown",
   "metadata": {},
   "source": [
    "**1. What does the trend of fatal bike accidents for different age groups look like?**\n",
    "\n",
    "With this research question, the aim is to have an insight of the fatal bike accidents for different age groups. The different age groups are 0-20, 20-30, 30-40, 40-50, 50-60, 60-70, 70-80 and 80+. The figure below shows the total fatal bike accidents per age group (for all bike types). The data used to provide these figures are from the ‘centraal bureau statistiek’ (2023).\n",
    "\n",
    "\n",
    "<img src=\"Figures\\SQ1.1_Ages_and_fatal_accidents.png\" alt=\"figure1.1\" width=\"900\">\n",
    "\n",
    "As seen in the figures the total fatal accidents of the age group 0-20 years is decreasing over the time given. The age groups 20-30 years, 30-40 years, 40-50 years and 60-70 years are pretty stable over time. Only the age groups of 70-80 years and 80 years and older are increasing a lot over time. From 1995 to 2020 the total fatal accidents on the bike has almost doubled for these age groups. \n",
    "\n",
    "The figures above show the total fatal accidents per age group in a different graph. To have an overview of the fatal accidents the graphs can be combined into one figure. In the figure below the fatal accidents by age groups are shown all together. \n",
    "\n",
    "\n",
    "<img src=\"Figures\\SQ1.2_ fatal accidents_per_age_group.png\" alt=\"figure1.2\" width=\"900\">\n",
    "\n",
    "The younger age groups have the lowest fatal accidents over time. The older the age groups get, the more fatal accidents have taken place over the years. The age groups 70-80 and 80+ stand out the most, especially in the last 10 to 15 years of the data. While the other age groups are quite stable over time in the data. The differences for these trends could have multiple causes. In the upcoming research questions, one of these possible causes will be researched, namely the use of e-bikes.\n",
    "\n",
    "<img src=\"Figures\\SQ1.3_ fatal accidents_per_km.png\" alt=\"figure1.3\" width=\"900\">\n",
    "\n",
    "In the graph displayed above, the total total deaths per age group on the e-bikes is tested against the total kilometers of different age groups. This clearly shows an increase in e-bike accidents and deaths for older people."
   ]
  },
  {
   "cell_type": "markdown",
   "metadata": {},
   "source": [
    "**2. How has the usage of e-bikes evolved over the years compared to regular bikes, by age group?**\n",
    "\n",
    "<img src=\"../TIL6022/Figures/SQ2.1_Linegraph_ages_km.png\" alt=\"figure1.2\" width=\"900\">\n",
    "\n",
    "<img src=\"../TIL6022/Figures/SQ2.2_barplot_ages_km.png\" alt=\"figure1.1\" width=\"700\">\n",
    "\n",
    "In the previous question it was concluded that especially the fatal bike accidents in the older age groups is increasing. To find out why this number is increasing this sub question will explore the amount of bike kilometres per age group and also the amount of e-bike usage per age group.\n",
    "\n",
    "In the graph the age groups are on the x-axis. The cycling distance is on the y-axis in billion kilometres. In the graphs there are 2 different types, the normal bike and the e-bike. The normal bike has a blue line and the e-bike has an orange line. The data of the cycling distance is between 2018 and 2021. From 2020 onwards the covid period started, which influenced the data quite a bit.\n",
    "\n",
    "The data provides 8 different age groups. The age groups are as follows: 0-17, 18-29, 30-39, 40-49, 50-59, 60-69, 70-79 and 80+. These age groups have different reasons to travel. The group 0-17 years will probably use the bike mainly for school purposes or leisure time. The middle age groups will use the bike for work purposes or small distances to supermarkets or for leisure. \n",
    "\n",
    "The data has been shown in the first graphs for all 8 different age groups. As the graphs show, the cycling distance for normal bikes decreases, the older the age groups are also decreasing on normal bike but less than the younger groups. The other way around, the cycling distance for e-bikes increases over time. Only the 80+ age group is out of this trend, because it decreases quite a lot compared to the other age groups. \n",
    "\n",
    "In the second graph the data of the years 2018 till 2021 is averaged together. Hereby, the use of normal bikes decreases by almost every age group. The opposite counts for the use of e-bike. From the age group 70-79 the use of e-bike decreases again. The difference in kilometres between normal bike use and e-bike use is decreasing the older the age group gets. From the age group 70-79 and 80+ the e-bike use is even higher than the use of normal bikes. \n",
    "\n",
    "\n",
    "##Test image##\n",
    "\n",
    "\n",
    "\n",
    "<img src=\"Figures\\SQ2.1_Linegraph_ages_km.png\" alt=\"image\" width=\"400\"/>\n"
   ]
  },
  {
   "cell_type": "markdown",
   "metadata": {},
   "source": [
    "**3. How have e-bike sales changed over the years compared to regular bike sales?**\n",
    "\n",
    "<img src=\"../TIL6022/Figures/SQ3.png\" alt=\"figure1.1\" width=\"700\">\n",
    "\n",
    "To understand the increase in e-bike kilometres compared to traditional bike usage, it is essential to also analyse the total sales of e-bikes versus those of conventional bikes. The figure above illustrates three lines: e-bike sales, total bike sales (all bikes excluding e-bikes), and other types of bicycles. The data for this graph is sourced from the Kennisinstituut voor Mobiliteitsbeleid and is detailed in the Fietsfeiten 2023 report, which presents bike sales data spanning the past 17 years. The category \"Total bike\" comprises the sum of city bikes, children's bikes, and hybrid bikes, while the \"Others\" group includes racing bikes, mountain bikes, folding bikes, and more. The graph indicates a decline in total bike sales, dropping from 1.2 million units per year in 2007 to 350,000 units per year in 2022. In contrast, e-bike sales have increased during the same period, rising from 150,000 to 450,000 units annually. As described in the previous paragraph, the increase in total e-bike kilometres is linked to this rise in e-bike sales alongside the overall decrease in traditional bike sales. In the following paragraph, we will explore the impact of increased fatal accident on conventional bikes and cars.\n",
    "\n",
    "\n",
    "\n",
    "\n",
    "\n",
    "\n"
   ]
  },
  {
   "cell_type": "markdown",
   "metadata": {},
   "source": [
    "**4. How do fatal traffic accidents involving e-bikes compare to those involving regular bikes and cars over the years?**\n",
    "\n",
    "<img src=\"../TIL6022/Figures/SQ4_Fatalities_visualisation_graph.png\" alt=\"figure1.1\" width=\"700\">\n",
    "\n",
    "We have seen that the electric bike use and sales have drastically increased over the years 2018-2022. In order to see the relative development of fatal accidents on the road, data from 2018-2022 was visualised and categorised in: [Conventional bike, Electric bike, Total bike, Car]. A distinction between conventional and electric bikes was made in order to be able to draw a conclusion on both developments. The total bike bar shows the total development of both bike categories.\n",
    "It is clearly visible in figure 3 that the total amount of fatal bike accidents is growing in respect to the fatal accidents in cars. Also, the amount of fatal electric bike accidents has been steadily growing and even doubled since 2018. The amount of fatal conventional bike accidents is fluctuating heavily each year.\n",
    "In the following paragraph, we will look at the fatal accidents by age group to see what the underlying factor could be.\n",
    "\n",
    "\n"
   ]
  },
  {
   "cell_type": "markdown",
   "metadata": {},
   "source": [
    "## Conclusion ##\n",
    "\n",
    "Given the increase in fatal bike accidents and the **rise in e-bike usage**, we aimed to find out **whether this increase has impacted the number of fatal accidents, especially across different age groups**, because prior research does not focus on this. By processing the data from CBS, KiM and Westerhuis et al. (2024) we aim to give a quantitative analysis to be able to answer the research question: What is the trend in fatal bike accidents by age group, and does the use of e-bikes effect this trend?. To be able to answer this research question four sub questions were first explored and answered. \n",
    "\n",
    "In subquestion one the number of fatal bike accidents per age group was explored and visualised. The youngest age group between 0 and 20 years has a decreasing number of fatal accidents over time. The age groups between 20 and 70 years the number of fatal accidents is quite stable over the years. For age groups above 70 years old there is an increase in the number of fatal accidents over time. \n",
    "\n",
    "In subquestion two the total amount of bike kilometres per age group is explored to get a better view behind the reason for different trends in fatal bike accidents. The main conclusion from this subquestion is that the number of bike kilometres of conventional bikes is decreasing in every age group. In comparison the e-bike kilometres is increasing and especially in the older age groups. \n",
    "\n",
    "In subquestion three the sales of bikes have been researched by looking at three different bike groups. The bike groups are: E-bikes, total bikes and other bikes. The total bikes consists of city bikes, children’s bikes and hybrid bikes. The other bikes consist of racing bikes, mountain bikes and folded bikes for example. The sales of other bikes have been quite consistent over time. The sales of e-bikes have been increasing over time by almost 3 times as much. In regards to this, the sales of conventional bikes (total bikes) have been decreasing over time by almost 4 times less. This could be the effect of the increase of conventional bikes, because they are each other's substitute. \n",
    "\n",
    "In subquestion four the fatal bike accidents are compared to e-bike fatal accidents and also fatal car accidents in traffic. The main conclusion from this sub question is that the fatal bike accidents is growing in comparison to the fatal bike accidents. Also, the amount of fatal electric bike accidents has been steadily growing and even doubled since 2018. The amount of fatal conventional bike accidents is fluctuating heavily each year.\n",
    "\n",
    "From this report we can conclude that the use of e-bike has increased a lot over time, and conventional bike usage has decreased over time. Also the sales of e-bikes and conventional bikes show the same behaviour. The older age groups have a major use of e-bike use and the fatal accidents are also higher within this age group. Especially over the past few years the e-bike usage increased a lot together with the amount of fatal accidents on the bike. A reason for this last increase could therefore be the increase of e-bike usage in traffic. What could be is that some spurious effects are not taken into account and could provide more answer to the research question. \n"
   ]
  },
  {
   "cell_type": "markdown",
   "metadata": {},
   "source": [
    "## Discusion ##\n",
    "It is important to note that the CBS relies on the type of bicycle indicated in the police report submitted to the Public Prosecutor's Office or on the cause of death form. Often, no distinction is made between a conventional bike and an e-bike. In such cases, these cycling fatalities are counted in the conventional bicycle category (CBS, 2023). Hence, the amount of electric bike fatalities could be significantly larger.\n",
    "\n",
    "- Spurious effects are not taken into account during this research. Effects like, safer roads, increase of fat bikes, increase of electric cars, which are more silent and so on. These developments also have an effect on fatal accidents. \n",
    "- Data from figure 4 shows a fluctuation between the different years, which could be explained by the Covid measures during the years 2020 and 2021. \n",
    "- The police in the Netherlands must write down if it is an e-bike accident. so the number could be much higher\n",
    "- 80+ is very high in fatal accidents (subquestion 1) but this is compared to little bike kilometres. That should be taken into account.\n",
    "- Different data for different organisations is used. So there might be some incorrectness, in the way they are measuring data.\n"
   ]
  },
  {
   "cell_type": "markdown",
   "metadata": {},
   "source": [
    "## Contribution Statement:\n",
    "- Bram Albertus: Finding data, visualizing and writing of sections.\n",
    "- Jitse Trip: Writing the introduction, writing sections and data research.\n",
    "- Thijs Kuiper: Setting up GitHub, visualising, data research and final github setup.\n",
    "- Luuk van der Horn: Visualising, data research, github.\n",
    "- Quinten Schimmel: Setting up GitHub, writing the research questions, research & finding data.\n"
   ]
  },
  {
   "cell_type": "markdown",
   "metadata": {},
   "source": [
    "## Data Sources\n",
    "- Centraal Bureau voor de Statistiek (CBS). (2022). Overledenen; doden door verkeersongeval in Nederland, wijze van deelname [Data set]. StatLine. https://www.cbs.nl/nl-nl/cijfers/detail/71936ned\n",
    "- Centraal Bureau voor de Statistiek (CBS). (2018). Totale reizigerskilometers in Nederland; vervoerwijzen, regio's, 2010-2017 [Data set]. StatLine. https://www.cbs.nl/nl-nl/cijfers/detail/84055ned\n",
    "- Centraal Bureau voor de Statistiek (CBS). (2024). Totale vervoersprestatie in Nederland; vervoerwijzen, regio's, 2018-2023 [Data set]. StatLine. https://www.cbs.nl/nl-nl/cijfers/detail/84750ned\n",
    "- Kennisinstituut voor Mobiliteitsbeleid (KiM). (2023). Mobiliteitsbeeld 2023: Hoofdstuk 1.5 - Elektrische fietsen en gebruik per leeftijdsgroep [PDF]. Fietsberaad. https://fietsberaad.nl/getmedia/f4d8871a-0bdf-4ff2-bab7-ee27303e1cb8/KiM_Mobiliteitsbeeld_2023_dvA.pdf.aspx\n",
    "- Hess, S., Spitz, M., McDonald, N., & Gao, J. (2023). Exploring the correlation between e-bike usage and fatal accidents across age groups. Accident Analysis & Prevention, 192, 106769. https://doi.org/10.1016/j.aap.2023.106769\n",
    "\n",
    "- Mathijs de Haas & Lukas Kolkowski, Kennisinstituut voor Mobiliteitsbeleid. (2023). Fietsfeiten 2023. https://www.kimnet.nl/kimnet/fietsfeiten-2023 \n",
    "- Centraal Bureau voor de Statistiek (CBS). (2023, April 19). Meer verkeersdoden in 2022, vooral fietsende 75-plussers vaker slachtoffer [More traffic deaths in 2022, especially older cyclists aged 75+ more often victims]. https://www.cbs.nl/nl-nl/nieuws/2023/16/meer-verkeersdoden-in-2022-vooral-fietsende-75-plussers-vaker-slachtoffer/verkeersdoden \n"
   ]
  },
  {
   "cell_type": "markdown",
   "metadata": {},
   "source": []
  }
 ],
 "metadata": {
  "kernelspec": {
   "display_name": "TIL6022",
   "language": "python",
   "name": "python3"
  },
  "language_info": {
   "codemirror_mode": {
    "name": "ipython",
    "version": 3
   },
   "file_extension": ".py",
   "mimetype": "text/x-python",
   "name": "python",
   "nbconvert_exporter": "python",
   "pygments_lexer": "ipython3",
   "version": "3.12.6"
  }
 },
 "nbformat": 4,
 "nbformat_minor": 2
}
