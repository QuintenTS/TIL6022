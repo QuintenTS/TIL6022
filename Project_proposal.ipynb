{
 "cells": [
  {
   "cell_type": "markdown",
   "metadata": {},
   "source": [
    "# The effect of the increasing bikes on the roads on fatal accidents\n",
    "\n",
    "## Research Proposal  \n",
    "**TIL6022**\n",
    "\n",
    "---\n",
    "\n",
    "### Authors:  \n",
    "- Bram Albertus: 5410681  \n",
    "- Jitse Trip: 4685717  \n",
    "- Thijs Kuiper: 5221145  \n",
    "- Luuk van der Horn: 5344921  \n",
    "- Quinten Schimmel: 5266408\n",
    "\n",
    "\n",
    "### Contribution Statement:\n",
    "- Bram Albertus: \n",
    "- Jitse Trip: Writing the introduction, \n",
    "- Thijs Kuiper: Setting up GitHub, visualising\n",
    "- Luuk van der Horn: Visualising\n",
    "- Quinten Schimmel: Setting up GitHub, writing the research questions, research & finding data.\n",
    "\n",
    "---\n",
    "\n",
    "## Introduction  \n",
    "\"The highest rate of deadly accidents among bike riders in 27 years,\" according to the *Centraal Bureau voor de Statistiek* (CBS). In 2022, 291 cyclists were involved in fatal accidents, which is 84 more than in previous years. The age category that has seen the most significant change is the 75 and older group (CBS, 2023). Parallel to this, the number of bike kilometers has also been increasing since 2022. According to the *Kennisinstituut voor Mobiliteitsbeleid* (KiM), the number of bike kilometers is now at the same level as in 2019 (the year before the COVID-19 pandemic). \n",
    "\n",
    "The increase in bike kilometers can be explained by a 4% rise in regular bike kilometers and a 29% increase in e-bike kilometers from 2019 to 2022. KiM's research indicates that e-bike usage in the 12-24 age group has tripled since 2019, while usage among people over 70 has increased by 18%. The growth in bike kilometers is primarily attributed to the rise in e-bike usage, according to the KiM (Kim; nieuws fietsberaad, 2023). Another research indicates that the rise of e-bike usage and sales could contribute to more fatalities, but that underlying usage patterns and demographics should be researched to give a complete answer.  (Westerhuis et al., 2024)\n",
    "\n",
    "Nowadays, the fatbike and other e-bikes are very popular and have faced heavy criticism from the government, due to the unsafeness of e-bikes and their speed. Policy measures are being developed and are expected soon. Also, the mandatory helmet requirement for scooters could be a reason for the increase in e-bike usage.\n",
    "\n",
    "Given the increase in fatal bike accidents and the rise in e-bike usage, we aim to research whether this increase has impacted the number of fatal accidents, especially across different age groups, because prior research does not focus on this. By processing the data from CBS, KiM and Westerhuis et al. (2024) we aim to give a quantitative analysis to be able to answer the research question.\n",
    "\n",
    "---\n",
    "\n",
    "## Research Question  \n",
    "**What is the trend in fatal bike accidents by age group, and is the underlying factor the use of e-bikes?**\n",
    "**ik wil dit aanpassen**\n",
    "\n",
    "---\n",
    "\n",
    "## Sub Questions  \n",
    "1. How has the usage of e-bikes evolved over the years compared to regular bikes, by age group?\n",
    "2. How have e-bike sales changed over the years compared to regular bike sales, by age group?\n",
    "3. How do fatal traffic accidents involving e-bikes compare to those involving regular bikes and cars over the years?\n",
    "4. How does the use of e-bikes correlate with the trend in fatal accidents across different age groups?\n",
    "\n",
    "---\n",
    "\n",
    "## Data Sources (with explanation, what's in the dataset)\n",
    "\n",
    "- For fatal accidents with bikes, CBS data is used. Data on fatal bicycle accidents is available for the period from 1996 to 2022. An additional feature of this dataset is the inclusion of age information.  \n",
    "  **Link to dataset**: [StatLine - Overledenen; doden door verkeersongeval in Nederland, wijze van deelname](https://www.cbs.nl)\n",
    "\n",
    "- For cycle kilometers, two datasets are used because a comprehensive dataset is missing. The first dataset contains data on cycle kilometers for the period 2010 - 2017, the other for the period 2018 - 2023.  \n",
    "  **Link to cycle kilometers 2010 - 2017**: [StatLine - Totale reizigerskilometers in Nederland; vervoerwijzen, regio's, 2010-2017](https://www.cbs.nl)  \n",
    "  **Link to cycle kilometers 2018 - 2023**: [StatLine - Totale vervoersprestatie in Nederland; vervoerwijzen, regio's](https://www.cbs.nl)\n",
    "\n",
    "- Electrical bike use over time per age group: This data is used to address whether there is a correlation between fatal accidents and different types of bicycle use. Also, data on the motive for e-bike usage is given.  \n",
    "  **Link**: [KiM_Mobiliteitsbeeld_2023_dvA.pdf](https://fietsberaad.nl/getmedia/f4d8871a-0bdf-4ff2-bab7-ee27303e1cb8/KiM_Mobiliteitsbeeld_2023_dvA.pdf.aspx) (Chapter 1.5)\n",
    "\n",
    "---\n",
    "\n",
    "## Subquestions ## \n",
    "\n",
    "\n",
    "\n",
    "\n",
    "\n"
   ]
  },
  {
   "cell_type": "markdown",
   "metadata": {},
   "source": [
    "**1. How does the use of e-bikes correlate with the trend in fatal accidents across different age groups?**\n",
    "\n",
    "In the figures above the total fatal accidents per age group is given. The data used to provide these figures are from the ‘centraal bureau statistiek’ (2023). As seen in the figures the total fatal accidents of the age group 0-20 years is decreasing over the time given. The age groups 20-30 years, 30-40 years, 40-50 years and 60-70 years are pretty stable over time. Only the age groups of 70-80 years and 80 years and older are increasing a lot over time. From 1995 to 2020 the total fatal accidents on the bike has almost doubled for these age groups. The total fatal accidents consist of all bike types. \n",
    "\n",
    "The figures above are combined into one figure to get a total overview of the data. In the figure above the fatal accidents by age groups are shown. \n",
    "\n",
    "\n",
    "<img src=\"../TIL6022/Figures/SQ4.1_Ages_and_fatal_accidents.png\" alt=\"figure1.1\" width=\"900\">\n",
    "\n",
    "<img src=\"../TIL6022/Figures/SQ4.2_ fatal accidents_per_age_group.png\" alt=\"figure1.2\" width=\"700\">"
   ]
  },
  {
   "cell_type": "markdown",
   "metadata": {},
   "source": [
    "**2. How has the usage of e-bikes evolved over the years compared to regular bikes, by age group?**\n",
    "\n",
    "Our research focuses on finding a trend in fatal bike accidents by age group, taking the use of e-bikes into account. To get a better view about this topic, sub questions have been used to research the underlying effects and factors at a different level. In the first sub question the use of e-bikes and normal bikes over the years within age groups have been researched. \n",
    "\n",
    "In the graph the age groups are on the x-axis. The cycling distance is on the y-axis in billion kilometres. In the graphs there are 2 different types, the normal bike and the e-bike. The normal bike has a blue line and the e-bike has an orange line. The data of the cycling distance is between 2018 and 2021. From 2020 onwards the covid period started, which influenced the data quite a bit.\n",
    "\n",
    "The data provides 8 different age groups. The age groups are as follows: 0-17, 18-29, 30-39, 40-49, 50-59, 60-69, 70-79 and 80+. These age groups have different reasons to travel. The group 0-17 years will probably use the bike mainly for school purposes or leisure time. The middle age groups will use the bike for work purpose or small distances to supermarkets or for leisure. \n",
    "\n",
    "The data has been shown in the first graphs for all 8 different age groups. As the graphs show, the cycling distance for normal bikes decreases, the older the age groups are. The other way around, the cycling distance for e-bikes increases over time. Only the 80+ age group is out of this trend, because it decreases quite a lot compared to the other age groups. \n",
    "\n",
    "In the second graph the data of the years 2018 till 2021 is averaged together. Hereby, the use of normal bikes decreases by almost every age group. The opposite counts for the use of e-bike. From the age group 70-79 the use of e-bike decreases again. The difference in kilometres between normal bike use and e-bike use is decreasing the older the age group gets. From the age group 70-79 the e-bike use is even higher than the use of normal bikes. \n",
    "\n",
    "<img src=\"../TIL6022/Figures/SQ1.1_barplot_ages_km.png\" alt=\"figure1.1\" width=\"700\">\n",
    "\n",
    "<img src=\"../TIL6022/Figures/SQ1.2_Linegraph_ages_km.png\" alt=\"figure1.2\" width=\"1000\">\n",
    "\n",
    "\n",
    "\n"
   ]
  },
  {
   "cell_type": "markdown",
   "metadata": {},
   "source": [
    "**3. How have e-bike sales changed over the years compared to regular bike sales, by age group?**\n",
    "\n",
    "To understand the increase in e-bike kilometres compared to traditional bike usage, it is essential to analyse the total sales of e-bikes versus those of conventional bikes. The figure above illustrates three lines: e-bike sales, total bike sales, and other types of bicycles. The data for this graph is sourced from the Kennisinstituut voor Mobiliteitsbeleid and is detailed in the Fietsfeiten 2023 report, which presents bike sales data spanning the past 17 years. The category \"Total bike\" comprises the sum of city bikes, children's bikes, and hybrid bikes, while the \"Others\" group includes racing bikes, mountain bikes, folding bikes, and more. The graph indicates a decline in total bike sales, dropping from 1.2 million units per year in 2007 to 350,000 units per year in 2022. In contrast, e-bike sales have increased during the same period, rising from 150,000 to 450,000 units annually. As described in the previous paragraph, the increase in total e-bike kilometres is linked to this rise in e-bike sales alongside the overall decrease in traditional bike sales. In the following paragraph, we will explore the impact of increased e-bike usage on road accidents.\n",
    "\n",
    "<img src=\"../TIL6022/Figures/SQ2.png\" alt=\"figure1.1\" width=\"700\">\n",
    "\n",
    "\n",
    "\n"
   ]
  },
  {
   "cell_type": "markdown",
   "metadata": {},
   "source": [
    "**4. How do fatal traffic accidents involving e-bikes compare to those involving regular bikes and cars over the years?**\n",
    "\n",
    "We have seen that the electric bike use and sales have drastically increased over the years 2018-2022. In order to see the relative development of fatal accidents on the road, data from 2018-2022 was visualised and categorised in: [Conventional bike, Electric bike, Total bike, Car]. A distinction between conventional and electric bikes was made in order to be able to draw a conclusion on both developments. The total bike bar shows the total development of both bike categories.\n",
    "It is clearly visible in figure 3 that the total amount of fatal bike accidents is growing in respect to the fatal accidents in cars. Also, the amount of fatal electric bike accidents has been steadily growing and even doubled since 2018. The amount of fatal conventional bike accidents is fluctuating heavily each year.\n",
    "In the following paragraph, we will look at the fatal accidents by age group to see what the underlying factor could be.\n",
    "\n",
    "<img src=\"../TIL6022/Figures/SQ3.1_Fatalities_visualisation_graph.png\" alt=\"figure1.1\" width=\"700\">\n",
    "\n"
   ]
  },
  {
   "cell_type": "markdown",
   "metadata": {},
   "source": []
  },
  {
   "cell_type": "markdown",
   "metadata": {},
   "source": [
    "## Conclusion ##"
   ]
  },
  {
   "cell_type": "markdown",
   "metadata": {},
   "source": [
    "## Discusion ##"
   ]
  }
 ],
 "metadata": {
  "kernelspec": {
   "display_name": "TIL6022",
   "language": "python",
   "name": "python3"
  },
  "language_info": {
   "codemirror_mode": {
    "name": "ipython",
    "version": 3
   },
   "file_extension": ".py",
   "mimetype": "text/x-python",
   "name": "python",
   "nbconvert_exporter": "python",
   "pygments_lexer": "ipython3",
   "version": "3.12.6"
  }
 },
 "nbformat": 4,
 "nbformat_minor": 2
}
