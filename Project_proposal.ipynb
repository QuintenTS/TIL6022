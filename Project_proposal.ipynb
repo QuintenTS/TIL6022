{
 "cells": [
  {
   "cell_type": "markdown",
   "metadata": {},
   "source": [
    "# The effect of the increasing bikes on the roads on fatal accidents\n",
    "\n",
    "## Research Proposal  \n",
    "**TIL6022**\n",
    "\n",
    "---\n",
    "\n",
    "### Authors:  \n",
    "- Bram Albertus: 5410681  \n",
    "- Jitse Trip: 4685717  \n",
    "- Thijs Kuiper: 5221145  \n",
    "- Luuk van der Horn: 5344921  \n",
    "- Quinten Schimmel: 5266408\n",
    "\n",
    "\n",
    "### Contribution Statement:\n",
    "- Bram Albertus: \n",
    "- Jitse Trip: Writing the introduction, \n",
    "- Thijs Kuiper: Setting up GitHub, visualising\n",
    "- Luuk van der Horn: Visualising\n",
    "- Quinten Schimmel: Setting up GitHub, writing the research questions, research & finding data.\n",
    "\n",
    "---\n",
    "\n",
    "## Introduction  \n",
    "\"The highest rate of deadly accidents among bike riders in 27 years,\" according to the *Centraal Bureau voor de Statistiek* (CBS). In 2022, 291 cyclists were involved in fatal accidents, which is 84 more than in previous years. The age category that has seen the most significant change is the 75 and older group (CBS, 2023). Parallel to this, the number of bike kilometers has also been increasing since 2022. According to the *Kennisinstituut voor Mobiliteitsbeleid* (KiM), the number of bike kilometers is now at the same level as in 2019 (the year before the COVID-19 pandemic). \n",
    "\n",
    "The increase in bike kilometers can be explained by a 4% rise in regular bike kilometers and a 29% increase in e-bike kilometers from 2019 to 2022. KiM's research indicates that e-bike usage in the 12-24 age group has tripled since 2019, while usage among people over 70 has increased by 18%. The growth in bike kilometers is primarily attributed to the rise in e-bike usage, according to the KiM (Kim; nieuws fietsberaad, 2023). Another research indicates that the rise of e-bike usage and sales could contribute to more fatalities, but that underlying usage patterns and demographics should be researched to give a complete answer.  (Westerhuis et al., 2024)\n",
    "\n",
    "Nowadays, the fatbike and other e-bikes are very popular and have faced heavy criticism from the government, due to the unsafeness of e-bikes and their speed. Policy measures are being developed and are expected soon. Also, the mandatory helmet requirement for scooters could be a reason for the increase in e-bike usage.\n",
    "\n",
    "Given the increase in fatal bike accidents and the rise in e-bike usage, we aim to research whether this increase has impacted the number of fatal accidents, especially across different age groups, because prior research does not focus on this. By processing the data from CBS, KiM and Westerhuis et al. (2024) we aim to give a quantitative analysis to be able to answer the research question.\n",
    "\n",
    "---\n",
    "\n",
    "## Research Question  \n",
    "**What is the trend in fatal bike accidents by age group, and is the underlying factor the use of e-bikes?**\n",
    "\n",
    "---\n",
    "\n",
    "## Sub Questions  \n",
    "1. How has the usage of e-bikes evolved over the years compared to regular bikes, by age group?\n",
    "2. How have e-bike sales changed over the years compared to regular bike sales, by age group?\n",
    "3. How do fatal traffic accidents involving e-bikes compare to those involving regular bikes and cars over the years?\n",
    "4. How does the use of e-bikes correlate with the trend in fatal accidents across different age groups?\n",
    "\n",
    "---\n",
    "\n",
    "## Data Sources (with explanation, what's in the dataset)\n",
    "\n",
    "- For fatal accidents with bikes, CBS data is used. Data on fatal bicycle accidents is available for the period from 1996 to 2022. An additional feature of this dataset is the inclusion of age information.  \n",
    "  **Link to dataset**: [StatLine - Overledenen; doden door verkeersongeval in Nederland, wijze van deelname](https://www.cbs.nl)\n",
    "\n",
    "- For cycle kilometers, two datasets are used because a comprehensive dataset is missing. The first dataset contains data on cycle kilometers for the period 2010 - 2017, the other for the period 2018 - 2023.  \n",
    "  **Link to cycle kilometers 2010 - 2017**: [StatLine - Totale reizigerskilometers in Nederland; vervoerwijzen, regio's, 2010-2017](https://www.cbs.nl)  \n",
    "  **Link to cycle kilometers 2018 - 2023**: [StatLine - Totale vervoersprestatie in Nederland; vervoerwijzen, regio's](https://www.cbs.nl)\n",
    "\n",
    "- Electrical bike use over time per age group: This data is used to address whether there is a correlation between fatal accidents and different types of bicycle use. Also, data on the motive for e-bike usage is given.  \n",
    "  **Link**: [KiM_Mobiliteitsbeeld_2023_dvA.pdf](https://fietsberaad.nl/getmedia/f4d8871a-0bdf-4ff2-bab7-ee27303e1cb8/KiM_Mobiliteitsbeeld_2023_dvA.pdf.aspx) (Chapter 1.5)\n",
    "\n",
    "---\n",
    "\n",
    "## Subquestions ## \n",
    "\n",
    "**1. How has the usage of e-bikes evolved over the years compared to regular bikes, by age group?**\n",
    "\n"
   ]
  },
  {
   "cell_type": "markdown",
   "cell_type": "code",
   "execution_count": 3,
   "metadata": {},
   "outputs": [
    {
     "name": "stdout",
     "output_type": "stream",
     "text": [
      "test\n"
     ]
    }
   ],
   "source": [
    "#test push 123445678\n",
    "\n",
    "print(\"test\")"
   ]
  },
  {
   "cell_type": "code",
   "execution_count": 5,
   "metadata": {},
   "outputs": [
    {
     "data": {
      "text/plain": [
       "'Test 10:30'"
      ]
     },
     "execution_count": 5,
     "metadata": {},
     "output_type": "execute_result"
    }
   ],
   "source": [
    "'Test 10:30'"
   ]
  },
  {
   "cell_type": "code",
   "execution_count": null,
   "metadata": {},
   "source": []
  }
 ],
 "metadata": {
  "kernelspec": {
   "display_name": "TIL6022",
   "language": "python",
   "name": "python3"
  },
  "language_info": {
   "codemirror_mode": {
    "name": "ipython",
    "version": 3
   },
   "file_extension": ".py",
   "mimetype": "text/x-python",
   "name": "python",
   "nbconvert_exporter": "python",
   "pygments_lexer": "ipython3",
   "version": "3.12.6"
  }
 },
 "nbformat": 4,
 "nbformat_minor": 2
}
